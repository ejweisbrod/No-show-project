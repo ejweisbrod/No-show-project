{
 "cells": [
  {
   "cell_type": "markdown",
   "metadata": {},
   "source": [
    "> **Tip**: Welcome to the Investigate a Dataset project! You will find tips in quoted sections like this to help organize your approach to your investigation. Before submitting your project, it will be a good idea to go back through your report and remove these sections to make the presentation of your work as tidy as possible. First things first, you might want to double-click this Markdown cell and change the title so that it reflects your dataset and investigation.\n",
    "\n",
    "# Project: Investigate No-show Appointments in Brazil\n",
    "\n",
    "## Table of Contents\n",
    "<ul>\n",
    "<li><a href=\"#intro\">Introduction</a></li>\n",
    "<li><a href=\"#wrangling\">Data Wrangling</a></li>\n",
    "<li><a href=\"#eda\">Exploratory Data Analysis</a></li>\n",
    "<li><a href=\"#conclusions\">Conclusions</a></li>\n",
    "</ul>"
   ]
  },
  {
   "cell_type": "markdown",
   "metadata": {},
   "source": [
    "<a id='intro'></a>\n",
    "## Introduction\n",
    "\n",
    "> **Tip**: In this section of the report, provide a brief introduction to the dataset you've selected for analysis. At the end of this section, describe the questions that you plan on exploring over the course of the report. Try to build your report around the analysis of at least one dependent variable and three independent variables. If you're not sure what questions to ask, then make sure you familiarize yourself with the dataset, its variables and the dataset context for ideas of what to explore.\n",
    "\n",
    "> If you haven't yet selected and downloaded your data, make sure you do that first before coming back here. In order to work with the data in this workspace, you also need to upload it to the workspace. To do so, click on the jupyter icon in the upper left to be taken back to the workspace directory. There should be an 'Upload' button in the upper right that will let you add your data file(s) to the workspace. You can then click on the .ipynb file name to come back here."
   ]
  },
  {
   "cell_type": "code",
   "execution_count": 2,
   "metadata": {},
   "outputs": [],
   "source": [
    "# Use this cell to set up import statements for all of the packages that you\n",
    "#   plan to use.\n",
    "# Make sure that visualizations are plotted inline with the notebook\n",
    "from datetime import datetime, timedelta\n",
    "import numpy as np, pandas as pd, matplotlib.pyplot as plt\n",
    "%matplotlib inline\n",
    "\n"
   ]
  },
  {
   "cell_type": "markdown",
   "metadata": {},
   "source": [
    "<a id='wrangling'></a>\n",
    "## Data Wrangling\n",
    "\n",
    "> **Tip**: In this section of the report, you will load in the data, check for cleanliness, and then trim and clean your dataset for analysis. Make sure that you document your steps carefully and justify your cleaning decisions.\n",
    "\n",
    "### General Properties"
   ]
  },
  {
   "cell_type": "code",
   "execution_count": 3,
   "metadata": {},
   "outputs": [
    {
     "data": {
      "text/html": [
       "<div>\n",
       "<style>\n",
       "    .dataframe thead tr:only-child th {\n",
       "        text-align: right;\n",
       "    }\n",
       "\n",
       "    .dataframe thead th {\n",
       "        text-align: left;\n",
       "    }\n",
       "\n",
       "    .dataframe tbody tr th {\n",
       "        vertical-align: top;\n",
       "    }\n",
       "</style>\n",
       "<table border=\"1\" class=\"dataframe\">\n",
       "  <thead>\n",
       "    <tr style=\"text-align: right;\">\n",
       "      <th></th>\n",
       "      <th>PatientId</th>\n",
       "      <th>AppointmentID</th>\n",
       "      <th>Gender</th>\n",
       "      <th>ScheduledDay</th>\n",
       "      <th>AppointmentDay</th>\n",
       "      <th>Age</th>\n",
       "      <th>Neighbourhood</th>\n",
       "      <th>Scholarship</th>\n",
       "      <th>Hipertension</th>\n",
       "      <th>Diabetes</th>\n",
       "      <th>Alcoholism</th>\n",
       "      <th>Handcap</th>\n",
       "      <th>SMS_received</th>\n",
       "      <th>No-show</th>\n",
       "    </tr>\n",
       "  </thead>\n",
       "  <tbody>\n",
       "    <tr>\n",
       "      <th>0</th>\n",
       "      <td>2.987250e+13</td>\n",
       "      <td>5642903</td>\n",
       "      <td>F</td>\n",
       "      <td>2016-04-29T18:38:08Z</td>\n",
       "      <td>2016-04-29T00:00:00Z</td>\n",
       "      <td>62</td>\n",
       "      <td>JARDIM DA PENHA</td>\n",
       "      <td>0</td>\n",
       "      <td>1</td>\n",
       "      <td>0</td>\n",
       "      <td>0</td>\n",
       "      <td>0</td>\n",
       "      <td>0</td>\n",
       "      <td>No</td>\n",
       "    </tr>\n",
       "    <tr>\n",
       "      <th>1</th>\n",
       "      <td>5.589978e+14</td>\n",
       "      <td>5642503</td>\n",
       "      <td>M</td>\n",
       "      <td>2016-04-29T16:08:27Z</td>\n",
       "      <td>2016-04-29T00:00:00Z</td>\n",
       "      <td>56</td>\n",
       "      <td>JARDIM DA PENHA</td>\n",
       "      <td>0</td>\n",
       "      <td>0</td>\n",
       "      <td>0</td>\n",
       "      <td>0</td>\n",
       "      <td>0</td>\n",
       "      <td>0</td>\n",
       "      <td>No</td>\n",
       "    </tr>\n",
       "    <tr>\n",
       "      <th>2</th>\n",
       "      <td>4.262962e+12</td>\n",
       "      <td>5642549</td>\n",
       "      <td>F</td>\n",
       "      <td>2016-04-29T16:19:04Z</td>\n",
       "      <td>2016-04-29T00:00:00Z</td>\n",
       "      <td>62</td>\n",
       "      <td>MATA DA PRAIA</td>\n",
       "      <td>0</td>\n",
       "      <td>0</td>\n",
       "      <td>0</td>\n",
       "      <td>0</td>\n",
       "      <td>0</td>\n",
       "      <td>0</td>\n",
       "      <td>No</td>\n",
       "    </tr>\n",
       "    <tr>\n",
       "      <th>3</th>\n",
       "      <td>8.679512e+11</td>\n",
       "      <td>5642828</td>\n",
       "      <td>F</td>\n",
       "      <td>2016-04-29T17:29:31Z</td>\n",
       "      <td>2016-04-29T00:00:00Z</td>\n",
       "      <td>8</td>\n",
       "      <td>PONTAL DE CAMBURI</td>\n",
       "      <td>0</td>\n",
       "      <td>0</td>\n",
       "      <td>0</td>\n",
       "      <td>0</td>\n",
       "      <td>0</td>\n",
       "      <td>0</td>\n",
       "      <td>No</td>\n",
       "    </tr>\n",
       "    <tr>\n",
       "      <th>4</th>\n",
       "      <td>8.841186e+12</td>\n",
       "      <td>5642494</td>\n",
       "      <td>F</td>\n",
       "      <td>2016-04-29T16:07:23Z</td>\n",
       "      <td>2016-04-29T00:00:00Z</td>\n",
       "      <td>56</td>\n",
       "      <td>JARDIM DA PENHA</td>\n",
       "      <td>0</td>\n",
       "      <td>1</td>\n",
       "      <td>1</td>\n",
       "      <td>0</td>\n",
       "      <td>0</td>\n",
       "      <td>0</td>\n",
       "      <td>No</td>\n",
       "    </tr>\n",
       "  </tbody>\n",
       "</table>\n",
       "</div>"
      ],
      "text/plain": [
       "      PatientId  AppointmentID Gender          ScheduledDay  \\\n",
       "0  2.987250e+13        5642903      F  2016-04-29T18:38:08Z   \n",
       "1  5.589978e+14        5642503      M  2016-04-29T16:08:27Z   \n",
       "2  4.262962e+12        5642549      F  2016-04-29T16:19:04Z   \n",
       "3  8.679512e+11        5642828      F  2016-04-29T17:29:31Z   \n",
       "4  8.841186e+12        5642494      F  2016-04-29T16:07:23Z   \n",
       "\n",
       "         AppointmentDay  Age      Neighbourhood  Scholarship  Hipertension  \\\n",
       "0  2016-04-29T00:00:00Z   62    JARDIM DA PENHA            0             1   \n",
       "1  2016-04-29T00:00:00Z   56    JARDIM DA PENHA            0             0   \n",
       "2  2016-04-29T00:00:00Z   62      MATA DA PRAIA            0             0   \n",
       "3  2016-04-29T00:00:00Z    8  PONTAL DE CAMBURI            0             0   \n",
       "4  2016-04-29T00:00:00Z   56    JARDIM DA PENHA            0             1   \n",
       "\n",
       "   Diabetes  Alcoholism  Handcap  SMS_received No-show  \n",
       "0         0           0        0             0      No  \n",
       "1         0           0        0             0      No  \n",
       "2         0           0        0             0      No  \n",
       "3         0           0        0             0      No  \n",
       "4         1           0        0             0      No  "
      ]
     },
     "execution_count": 3,
     "metadata": {},
     "output_type": "execute_result"
    }
   ],
   "source": [
    "# Load your data and print out a few lines. \n",
    "df = pd.read_csv('no_shows.csv')\n",
    "df.head()\n",
    "\n",
    "\n",
    "# Perform operations to inspect data\n",
    "# types and look for instances of missing or possibly errant data.\n"
   ]
  },
  {
   "cell_type": "code",
   "execution_count": 4,
   "metadata": {},
   "outputs": [
    {
     "data": {
      "text/plain": [
       "PatientId         0\n",
       "AppointmentID     0\n",
       "Gender            0\n",
       "ScheduledDay      0\n",
       "AppointmentDay    0\n",
       "Age               0\n",
       "Neighbourhood     0\n",
       "Scholarship       0\n",
       "Hipertension      0\n",
       "Diabetes          0\n",
       "Alcoholism        0\n",
       "Handcap           0\n",
       "SMS_received      0\n",
       "No-show           0\n",
       "dtype: int64"
      ]
     },
     "execution_count": 4,
     "metadata": {},
     "output_type": "execute_result"
    }
   ],
   "source": [
    "#check for null values\n",
    "df.isnull().sum()"
   ]
  },
  {
   "cell_type": "markdown",
   "metadata": {},
   "source": [
    "#### There are not any null values in any of the columns."
   ]
  },
  {
   "cell_type": "code",
   "execution_count": 5,
   "metadata": {},
   "outputs": [
    {
     "data": {
      "text/plain": [
       "0"
      ]
     },
     "execution_count": 5,
     "metadata": {},
     "output_type": "execute_result"
    }
   ],
   "source": [
    "#check for duplicate appointment ids\n",
    "\n",
    "#it would not make sense if two appointments were given the same id, because the appointment id\n",
    "#is meant to distinguish each appointment from every other appointment\n",
    "#if there are two appointments with the same id, this means that the data was entered incorrectly\n",
    "\n",
    "df['AppointmentID'].duplicated().sum()\n",
    "\n"
   ]
  },
  {
   "cell_type": "markdown",
   "metadata": {},
   "source": [
    "#### There are not any duplicated appointment ids."
   ]
  },
  {
   "cell_type": "code",
   "execution_count": 6,
   "metadata": {},
   "outputs": [
    {
     "name": "stdout",
     "output_type": "stream",
     "text": [
      "Scholarship 10861\n",
      "Hipertension 21801\n",
      "Diabetes 7943\n",
      "Alcoholism 3360\n",
      "Handcap 2042\n",
      "SMS_received 35482\n",
      "\n",
      " 110527\n"
     ]
    }
   ],
   "source": [
    "#make sure that none of the binary columns (Scholarship, SMS_received, etc.) have 0 for every row\n",
    "#if any of these columns has 0 for every row, the column should be deleted from the dataframe\n",
    "#because the variable in question is not relevant to our analysis\n",
    "\n",
    "#create a list for all columns with binary entries\n",
    "binary_col_ls = ['Scholarship', 'Hipertension', 'Diabetes', 'Alcoholism', 'Handcap', 'SMS_received']\n",
    "\n",
    "#iterate through each binary column to determine the amount of 1 (True) entries in each column\n",
    "\n",
    "for column in binary_col_ls:\n",
    "    print(column, (df[column] == 1).sum())\n",
    "    \n",
    "#compare this to the number of total entries in each column (total rows in the dataframe)    \n",
    "print(\"\\n\", df.shape[0])\n",
    "\n"
   ]
  },
  {
   "cell_type": "markdown",
   "metadata": {},
   "source": [
    "#### For each binary column, the amount of True (1) entries is greater than zero and less than 110,527.\n",
    "#### This means that we should retain all of these columns."
   ]
  },
  {
   "cell_type": "code",
   "execution_count": 7,
   "metadata": {},
   "outputs": [
    {
     "data": {
      "text/plain": [
       "29872499824296.0"
      ]
     },
     "execution_count": 7,
     "metadata": {},
     "output_type": "execute_result"
    }
   ],
   "source": [
    "#check the data type of the PatientId column by printing the first entry\n",
    "#patiend id should be an integer\n",
    "df['PatientId'][0]"
   ]
  },
  {
   "cell_type": "markdown",
   "metadata": {},
   "source": [
    "#### The values in the 'PatientId' column are floats. We will need to change them to integers."
   ]
  },
  {
   "cell_type": "code",
   "execution_count": 8,
   "metadata": {},
   "outputs": [
    {
     "data": {
      "text/plain": [
       "62"
      ]
     },
     "execution_count": 8,
     "metadata": {},
     "output_type": "execute_result"
    }
   ],
   "source": [
    "#check the data type of the age column by printing the first entry\n",
    "#age should be an integer, so that it can be used in computations\n",
    "df[\"Age\"][0]\n"
   ]
  },
  {
   "cell_type": "markdown",
   "metadata": {},
   "source": [
    "#### The values in the \"Age\" column are integers, so there is no need to change the data type."
   ]
  },
  {
   "cell_type": "code",
   "execution_count": 9,
   "metadata": {},
   "outputs": [
    {
     "data": {
      "text/plain": [
       "'2016-04-29T18:38:08Z'"
      ]
     },
     "execution_count": 9,
     "metadata": {},
     "output_type": "execute_result"
    }
   ],
   "source": [
    "#check the data type of the ScheduledDay column by printing the first entry\n",
    "#ScheduledDay should be a datetime\n",
    "df[\"ScheduledDay\"][0]"
   ]
  },
  {
   "cell_type": "code",
   "execution_count": 10,
   "metadata": {},
   "outputs": [
    {
     "data": {
      "text/plain": [
       "'2016-04-29T00:00:00Z'"
      ]
     },
     "execution_count": 10,
     "metadata": {},
     "output_type": "execute_result"
    }
   ],
   "source": [
    "#check the data type of the AppointmentDay column\n",
    "#AppointmentDay should also be a datetime\n",
    "df[\"AppointmentDay\"][0]"
   ]
  },
  {
   "cell_type": "markdown",
   "metadata": {},
   "source": [
    "#### The columns for ScheduledDay and AppointmentDay contain strings instead of datetimes. We will need to fix this.\n"
   ]
  },
  {
   "cell_type": "markdown",
   "metadata": {},
   "source": [
    "> **Tip**: You should _not_ perform too many operations in each cell. Create cells freely to explore your data. One option that you can take with this project is to do a lot of explorations in an initial notebook. These don't have to be organized, but make sure you use enough comments to understand the purpose of each code cell. Then, after you're done with your analysis, create a duplicate notebook where you will trim the excess and organize your steps so that you have a flowing, cohesive report.\n",
    "\n",
    "> **Tip**: Make sure that you keep your reader informed on the steps that you are taking in your investigation. Follow every code cell, or every set of related code cells, with a markdown cell to describe to the reader what was found in the preceding cell(s). Try to make it so that the reader can then understand what they will be seeing in the following cell(s).\n",
    "\n",
    "### Data Cleaning (Replace this with more specific notes!)"
   ]
  },
  {
   "cell_type": "code",
   "execution_count": 11,
   "metadata": {},
   "outputs": [],
   "source": [
    "# After discussing the structure of the data and any problems that need to be\n",
    "#   cleaned, perform those cleaning steps in the second part of this section.\n"
   ]
  },
  {
   "cell_type": "code",
   "execution_count": 12,
   "metadata": {},
   "outputs": [
    {
     "data": {
      "text/plain": [
       "0     29872499824296\n",
       "1    558997776694438\n",
       "2      4262962299951\n",
       "3       867951213174\n",
       "4      8841186448183\n",
       "Name: PatientId, dtype: int64"
      ]
     },
     "execution_count": 12,
     "metadata": {},
     "output_type": "execute_result"
    }
   ],
   "source": [
    "#convert the floats in the 'PatientId' column to integers\n",
    "df['PatientId'] = df['PatientId'].astype(int)\n",
    "\n",
    "#verify that the floats have been converted to integers\n",
    "df['PatientId'].head()"
   ]
  },
  {
   "cell_type": "markdown",
   "metadata": {},
   "source": [
    "#### The \"PatientId\" column has been successfully converted into integers."
   ]
  },
  {
   "cell_type": "code",
   "execution_count": 13,
   "metadata": {},
   "outputs": [
    {
     "data": {
      "text/plain": [
       "0   2016-04-29 18:38:08\n",
       "1   2016-04-29 16:08:27\n",
       "2   2016-04-29 16:19:04\n",
       "3   2016-04-29 17:29:31\n",
       "4   2016-04-29 16:07:23\n",
       "Name: ScheduledDay, dtype: datetime64[ns]"
      ]
     },
     "execution_count": 13,
     "metadata": {},
     "output_type": "execute_result"
    }
   ],
   "source": [
    "#convert the strings in the ScheduledDay column to datetimes\n",
    "df[\"ScheduledDay\"] = df[\"ScheduledDay\"].apply(pd.to_datetime)\n",
    "\n",
    "#verify that the strings have been converted to datetimes\n",
    "df[\"ScheduledDay\"].head()"
   ]
  },
  {
   "cell_type": "markdown",
   "metadata": {},
   "source": [
    "#### The ScheduledDay column has been successfully converted into datetimes."
   ]
  },
  {
   "cell_type": "code",
   "execution_count": 14,
   "metadata": {},
   "outputs": [
    {
     "data": {
      "text/plain": [
       "0   2016-04-29\n",
       "1   2016-04-29\n",
       "2   2016-04-29\n",
       "3   2016-04-29\n",
       "4   2016-04-29\n",
       "Name: AppointmentDay, dtype: datetime64[ns]"
      ]
     },
     "execution_count": 14,
     "metadata": {},
     "output_type": "execute_result"
    }
   ],
   "source": [
    "#Convert the strings in the AppointmentDay column to datetimes\n",
    "df[\"AppointmentDay\"] = df[\"AppointmentDay\"].apply(pd.to_datetime)\n",
    "\n",
    "#Verify that the strings have been converted to datetimes\n",
    "df[\"AppointmentDay\"].head()"
   ]
  },
  {
   "cell_type": "markdown",
   "metadata": {},
   "source": [
    "#### AppointmentDay column has been successfully converted into datetimes."
   ]
  },
  {
   "cell_type": "markdown",
   "metadata": {},
   "source": [
    "<a id='eda'></a>\n",
    "## Exploratory Data Analysis\n",
    "\n",
    "> **Tip**: Now that you've trimmed and cleaned your data, you're ready to move on to exploration. Compute statistics and create visualizations with the goal of addressing the research questions that you posed in the Introduction section. It is recommended that you be systematic with your approach. Look at one variable at a time, and then follow it up by looking at relationships between variables.\n",
    "\n",
    "### Research Question 1 (Replace this header name!)\n",
    "\n",
    "#### Is there a relationship between no-show status and the amount of time that elapsed between the date on which the appointment was booked and the date on which the appointment was supposed to occur?"
   ]
  },
  {
   "cell_type": "code",
   "execution_count": 15,
   "metadata": {},
   "outputs": [],
   "source": [
    "# Use this, and more code cells, to explore your data. Don't forget to add\n",
    "#   Markdown cells to document your observations and findings.\n"
   ]
  },
  {
   "cell_type": "markdown",
   "metadata": {},
   "source": [
    "\n"
   ]
  },
  {
   "cell_type": "code",
   "execution_count": 16,
   "metadata": {},
   "outputs": [
    {
     "data": {
      "text/html": [
       "<div>\n",
       "<style>\n",
       "    .dataframe thead tr:only-child th {\n",
       "        text-align: right;\n",
       "    }\n",
       "\n",
       "    .dataframe thead th {\n",
       "        text-align: left;\n",
       "    }\n",
       "\n",
       "    .dataframe tbody tr th {\n",
       "        vertical-align: top;\n",
       "    }\n",
       "</style>\n",
       "<table border=\"1\" class=\"dataframe\">\n",
       "  <thead>\n",
       "    <tr style=\"text-align: right;\">\n",
       "      <th></th>\n",
       "      <th>PatientId</th>\n",
       "      <th>AppointmentID</th>\n",
       "      <th>Gender</th>\n",
       "      <th>ScheduledDay</th>\n",
       "      <th>AppointmentDay</th>\n",
       "      <th>Age</th>\n",
       "      <th>Neighbourhood</th>\n",
       "      <th>Scholarship</th>\n",
       "      <th>Hipertension</th>\n",
       "      <th>Diabetes</th>\n",
       "      <th>Alcoholism</th>\n",
       "      <th>Handcap</th>\n",
       "      <th>SMS_received</th>\n",
       "      <th>No-show</th>\n",
       "      <th>days_after_scheduling</th>\n",
       "    </tr>\n",
       "  </thead>\n",
       "  <tbody>\n",
       "    <tr>\n",
       "      <th>0</th>\n",
       "      <td>29872499824296</td>\n",
       "      <td>5642903</td>\n",
       "      <td>F</td>\n",
       "      <td>2016-04-29 18:38:08</td>\n",
       "      <td>2016-04-29</td>\n",
       "      <td>62</td>\n",
       "      <td>JARDIM DA PENHA</td>\n",
       "      <td>0</td>\n",
       "      <td>1</td>\n",
       "      <td>0</td>\n",
       "      <td>0</td>\n",
       "      <td>0</td>\n",
       "      <td>0</td>\n",
       "      <td>No</td>\n",
       "      <td>-1 days +05:21:52</td>\n",
       "    </tr>\n",
       "    <tr>\n",
       "      <th>1</th>\n",
       "      <td>558997776694438</td>\n",
       "      <td>5642503</td>\n",
       "      <td>M</td>\n",
       "      <td>2016-04-29 16:08:27</td>\n",
       "      <td>2016-04-29</td>\n",
       "      <td>56</td>\n",
       "      <td>JARDIM DA PENHA</td>\n",
       "      <td>0</td>\n",
       "      <td>0</td>\n",
       "      <td>0</td>\n",
       "      <td>0</td>\n",
       "      <td>0</td>\n",
       "      <td>0</td>\n",
       "      <td>No</td>\n",
       "      <td>-1 days +07:51:33</td>\n",
       "    </tr>\n",
       "    <tr>\n",
       "      <th>2</th>\n",
       "      <td>4262962299951</td>\n",
       "      <td>5642549</td>\n",
       "      <td>F</td>\n",
       "      <td>2016-04-29 16:19:04</td>\n",
       "      <td>2016-04-29</td>\n",
       "      <td>62</td>\n",
       "      <td>MATA DA PRAIA</td>\n",
       "      <td>0</td>\n",
       "      <td>0</td>\n",
       "      <td>0</td>\n",
       "      <td>0</td>\n",
       "      <td>0</td>\n",
       "      <td>0</td>\n",
       "      <td>No</td>\n",
       "      <td>-1 days +07:40:56</td>\n",
       "    </tr>\n",
       "    <tr>\n",
       "      <th>3</th>\n",
       "      <td>867951213174</td>\n",
       "      <td>5642828</td>\n",
       "      <td>F</td>\n",
       "      <td>2016-04-29 17:29:31</td>\n",
       "      <td>2016-04-29</td>\n",
       "      <td>8</td>\n",
       "      <td>PONTAL DE CAMBURI</td>\n",
       "      <td>0</td>\n",
       "      <td>0</td>\n",
       "      <td>0</td>\n",
       "      <td>0</td>\n",
       "      <td>0</td>\n",
       "      <td>0</td>\n",
       "      <td>No</td>\n",
       "      <td>-1 days +06:30:29</td>\n",
       "    </tr>\n",
       "    <tr>\n",
       "      <th>4</th>\n",
       "      <td>8841186448183</td>\n",
       "      <td>5642494</td>\n",
       "      <td>F</td>\n",
       "      <td>2016-04-29 16:07:23</td>\n",
       "      <td>2016-04-29</td>\n",
       "      <td>56</td>\n",
       "      <td>JARDIM DA PENHA</td>\n",
       "      <td>0</td>\n",
       "      <td>1</td>\n",
       "      <td>1</td>\n",
       "      <td>0</td>\n",
       "      <td>0</td>\n",
       "      <td>0</td>\n",
       "      <td>No</td>\n",
       "      <td>-1 days +07:52:37</td>\n",
       "    </tr>\n",
       "  </tbody>\n",
       "</table>\n",
       "</div>"
      ],
      "text/plain": [
       "         PatientId  AppointmentID Gender        ScheduledDay AppointmentDay  \\\n",
       "0   29872499824296        5642903      F 2016-04-29 18:38:08     2016-04-29   \n",
       "1  558997776694438        5642503      M 2016-04-29 16:08:27     2016-04-29   \n",
       "2    4262962299951        5642549      F 2016-04-29 16:19:04     2016-04-29   \n",
       "3     867951213174        5642828      F 2016-04-29 17:29:31     2016-04-29   \n",
       "4    8841186448183        5642494      F 2016-04-29 16:07:23     2016-04-29   \n",
       "\n",
       "   Age      Neighbourhood  Scholarship  Hipertension  Diabetes  Alcoholism  \\\n",
       "0   62    JARDIM DA PENHA            0             1         0           0   \n",
       "1   56    JARDIM DA PENHA            0             0         0           0   \n",
       "2   62      MATA DA PRAIA            0             0         0           0   \n",
       "3    8  PONTAL DE CAMBURI            0             0         0           0   \n",
       "4   56    JARDIM DA PENHA            0             1         1           0   \n",
       "\n",
       "   Handcap  SMS_received No-show days_after_scheduling  \n",
       "0        0             0      No     -1 days +05:21:52  \n",
       "1        0             0      No     -1 days +07:51:33  \n",
       "2        0             0      No     -1 days +07:40:56  \n",
       "3        0             0      No     -1 days +06:30:29  \n",
       "4        0             0      No     -1 days +07:52:37  "
      ]
     },
     "execution_count": 16,
     "metadata": {},
     "output_type": "execute_result"
    }
   ],
   "source": [
    "#create a new column called days_after_scheduling\n",
    "#that contains the difference (in days) between AppointmentDay and ScheduledDay\n",
    "\n",
    "df['days_after_scheduling'] = df['AppointmentDay'] - df['ScheduledDay']\n",
    "\n",
    "df.head()"
   ]
  },
  {
   "cell_type": "markdown",
   "metadata": {},
   "source": [
    "#### The new column has been successfully created, but we need to clean up the entries so that only the number of days is displayed."
   ]
  },
  {
   "cell_type": "code",
   "execution_count": 17,
   "metadata": {},
   "outputs": [
    {
     "data": {
      "text/plain": [
       "0         -1\n",
       "1         -1\n",
       "2         -1\n",
       "3         -1\n",
       "4         -1\n",
       "5          1\n",
       "6          1\n",
       "7          1\n",
       "8         -1\n",
       "9          1\n",
       "10         1\n",
       "11         2\n",
       "12         0\n",
       "13         0\n",
       "14         0\n",
       "15         2\n",
       "16         0\n",
       "17         0\n",
       "18         2\n",
       "19        -1\n",
       "20         1\n",
       "21         1\n",
       "22         3\n",
       "23         0\n",
       "24        -1\n",
       "25         2\n",
       "26        -1\n",
       "27         1\n",
       "28        -1\n",
       "29        -1\n",
       "          ..\n",
       "110497    -1\n",
       "110498    -1\n",
       "110499    -1\n",
       "110500    -1\n",
       "110501    -1\n",
       "110502    -1\n",
       "110503    -1\n",
       "110504    -1\n",
       "110505    -1\n",
       "110506    -1\n",
       "110507    -1\n",
       "110508    -1\n",
       "110509    -1\n",
       "110510    -1\n",
       "110511    -1\n",
       "110512    -1\n",
       "110513    -1\n",
       "110514    -1\n",
       "110515     1\n",
       "110516     0\n",
       "110517    -1\n",
       "110518    40\n",
       "110519    40\n",
       "110520    34\n",
       "110521    34\n",
       "110522    34\n",
       "110523    34\n",
       "110524    40\n",
       "110525    40\n",
       "110526    40\n",
       "Name: days_after_scheduling, Length: 110527, dtype: int64"
      ]
     },
     "execution_count": 17,
     "metadata": {},
     "output_type": "execute_result"
    }
   ],
   "source": [
    "#create a function that takes a timedelta as its argument and returns the number of days as an integer\n",
    "def num_days(delta):\n",
    "    return delta.days\n",
    "\n",
    "#apply this function to each entry in days_after_scheduling\n",
    "df['days_after_scheduling'] = df['days_after_scheduling'].apply(num_days)\n",
    "\n",
    "df['days_after_scheduling']"
   ]
  },
  {
   "cell_type": "markdown",
   "metadata": {},
   "source": [
    "#### There are some negative values in the column. These values cannot possibly be accurate, because an appointment cannot occur before it is scheduled.\n",
    "\n",
    "#### Therefore, we should covert these value to zero."
   ]
  },
  {
   "cell_type": "code",
   "execution_count": 18,
   "metadata": {},
   "outputs": [
    {
     "data": {
      "text/plain": [
       "0          0\n",
       "1          0\n",
       "2          0\n",
       "3          0\n",
       "4          0\n",
       "5          1\n",
       "6          1\n",
       "7          1\n",
       "8          0\n",
       "9          1\n",
       "10         1\n",
       "11         2\n",
       "12         0\n",
       "13         0\n",
       "14         0\n",
       "15         2\n",
       "16         0\n",
       "17         0\n",
       "18         2\n",
       "19         0\n",
       "20         1\n",
       "21         1\n",
       "22         3\n",
       "23         0\n",
       "24         0\n",
       "25         2\n",
       "26         0\n",
       "27         1\n",
       "28         0\n",
       "29         0\n",
       "          ..\n",
       "110497     0\n",
       "110498     0\n",
       "110499     0\n",
       "110500     0\n",
       "110501     0\n",
       "110502     0\n",
       "110503     0\n",
       "110504     0\n",
       "110505     0\n",
       "110506     0\n",
       "110507     0\n",
       "110508     0\n",
       "110509     0\n",
       "110510     0\n",
       "110511     0\n",
       "110512     0\n",
       "110513     0\n",
       "110514     0\n",
       "110515     1\n",
       "110516     0\n",
       "110517     0\n",
       "110518    40\n",
       "110519    40\n",
       "110520    34\n",
       "110521    34\n",
       "110522    34\n",
       "110523    34\n",
       "110524    40\n",
       "110525    40\n",
       "110526    40\n",
       "Name: days_after_scheduling, Length: 110527, dtype: int64"
      ]
     },
     "execution_count": 18,
     "metadata": {},
     "output_type": "execute_result"
    }
   ],
   "source": [
    "#create a function that converts negative one to zero\n",
    "def neg_to_zero(value):\n",
    "    if value == -1:\n",
    "        return 0\n",
    "    else:\n",
    "        return value\n",
    "\n",
    "#apply this function to each entry of days_after_scheduling\n",
    "df['days_after_scheduling'].apply(neg_to_zero)"
   ]
  },
  {
   "cell_type": "markdown",
   "metadata": {},
   "source": [
    "#### Now that all of the values in days_after_scheduling are in the proper format, we can explore how this data relates to no-show status."
   ]
  },
  {
   "cell_type": "code",
   "execution_count": 19,
   "metadata": {},
   "outputs": [
    {
     "name": "stdout",
     "output_type": "stream",
     "text": [
      "[0, 1, 2, 3, 4, 5, 6, 7, 8, 9, 10, 11, 12, 13, 14, 15, 16, 17, 18, 19, 20, 21, 22, 23, 24, 25, 26, 27, 28, 29, 30, 31, 32, 33, 34, 35, 36, 37, 38, 39, 40, 41, 42, 43, 44, 45, 46, 47, 48, 49, 50, 51, 52, 53, 54, 55, 56, 57, 58, 59, 60, 61, 62, 63, 64, 65, 66, 67, 68, 69, 70, 71, 72, 73, 74, 75, 76, 77, 78, 79, 80, 81, 82, 83, 84, 85, 86, 87, 88, 89, 90, 91, 92, 93, 94, 95, 96, 97, 100, 101, 102, 103, 104, 106, 107, 108, 109, 110, 111, 114, 116, 118, 121, 122, 124, 125, 126, 131, 132, 138, 141, 145, 150, 154, 161, 168, 175, 178, -2, -7, -1]\n"
     ]
    }
   ],
   "source": [
    "#create a list of x-values that contains each unique value in the days_after_scheduling column\n",
    "x_values = list(set(df['days_after_scheduling'].values))\n",
    "\n",
    "#print the list to verify that it looks reasonable\n",
    "print(x_values)"
   ]
  },
  {
   "cell_type": "code",
   "execution_count": 20,
   "metadata": {},
   "outputs": [
    {
     "name": "stdout",
     "output_type": "stream",
     "text": [
      "[0.2714634145679357, 0.31270739794793917, 0.3076923075452975, 0.30327666905561057, 0.3625779624272025, 0.32971014481893607, 0.3639143729875134, 0.4031287602869261, 0.37768240310928547, 0.4626708722790001, 0.4622222215374486, 0.46325459256790735, 0.46771378667738756, 0.45649999977175, 0.501498500997504, 0.4387499994515625, 0.46235138644339313, 0.44005641686874974, 0.5330396467943618, 0.5237483947063564, 0.44712286123862915, 0.5253576065990149, 0.5054945045686914, 0.60723514054978, 0.6719160087351286, 0.5619658107650303, 0.46176046109414076, 0.41812136291095475, 0.48567530629512234, 0.3617021269599572, 0.48672566263998746, 0.5421052617313019, 0.5022624423025737, 0.5018587351266566, 0.5943708599430946, 0.4499999988157895, 0.5613207520692417, 0.5190839655031758, 0.47826086540642726, 0.6821192007806676, 0.5475113097397678, 0.5855513285720482, 0.4269662897361444, 0.4272727233884298, 0.5747126370722686, 0.5714285640074213, 0.43421052060249316, 0.40963854928146326, 0.5319148898445752, 0.3684210498614959, 0.5689655074316292, 0.34328357696591677, 0.523809515495087, 0.5869565089792064, 0.8166666530555559, 0.33552631358206375, 0.6065573671056169, 0.4864864799123449, 0.5789473582640815, 0.7380952205215424, 0.29807692021079885, 0.26143790678798756, 0.3605442152343931, 0.5957446681756454, 0.42647058196366794, 0.4210526278855033, 0.4318181720041325, 0.4893616917157087, 0.47887323269192633, 0.4545454486422669, 0.2820512748191981, 0.4324324207450697, 0.5416666440972231, 0.49999998076923147, 0.4399999912000002, 0.4444444345679015, 0.5142856995918372, 0.6499999675000016, 0.6428570969387788, 0.7999999200000081, 0.6666665555555741, 0.0, 0.1428571224489825, 0.2857142789115648, 0.27586205945303244, 0.199999960000008, 0.4545454132231443, 0.4545454132231443, 0.699999930000007, 0.3181818109504134, 0.27272726652892576, 0.0, 0.0, 0.0, 0.24999993750001562, 0.33333322222225925, 0.0, 0.24999993750001562, 0.0, 0.33333322222225925, 1.499999250000375, 2.99999850000075, 0.0, 0.0, 0.0, 0.0, 0.9999990000010001, 0.24999993750001562, 0.0, 0.0, 0.0, 0.0, 0.0, 0.0, 0.0, 1000000.0, 0.0, 1000000.0, 0.57142848979593, 1000000.0, 0.599999880000024, 1000000.0, 1000000.0, 1.4999996250000938, 0.22222219753086697, 0.1428571224489825, 0.599999940000006, 0.24999996875000394, 4000000.0, 1000000.0, 0.04873405672816257]\n"
     ]
    }
   ],
   "source": [
    "#create a list of y-values that contains the PROPORTION of no-shows\n",
    "# for each unique value in the days_after_scheduling column\n",
    "\n",
    "y_values = []\n",
    "\n",
    "#for each x-value, create a list of corresponding no-show values\n",
    "\n",
    "for x_value in x_values:\n",
    "    no_shows_list = df[\"No-show\"][df['days_after_scheduling'] == x_value].values\n",
    "    \n",
    "    #assign the amount of no-shows ('Yes' values) to a variable\n",
    "    #assign the amount of shows ('No' values) to a variable\n",
    "    #iterate through each no-show list to determine\n",
    "    #the proportion of no-show (\"Yes\") values for each x-value\n",
    "    #compute the ratio and append it to the list of y-values\n",
    "    no_show_count = 0\n",
    "    show_count = 0\n",
    "    for element in no_shows_list:\n",
    "        if element == 'Yes':\n",
    "            no_show_count += 1\n",
    "        else:\n",
    "            show_count += 1\n",
    "    \n",
    "    #add a very small value to show_count to prevent division by 0\n",
    "    y_values.append(no_show_count / (show_count + .000001))\n",
    "\n",
    "#print the list to verify that it looks reasonable    \n",
    "print(y_values)\n",
    "\n",
    "#np.median(y_values)"
   ]
  },
  {
   "cell_type": "markdown",
   "metadata": {},
   "source": [
    "#### Most of the values in this list are smaller than 1, but several of them are greater than 10,000.\n",
    "\n",
    "#### We should eliminate these outliers so that we can obtain insights from our visualization.\n",
    "\n",
    "#### In order to do this, we will need to use np.percentile()\n",
    "\n",
    "https://docs.scipy.org/doc/numpy-dev/reference/generated/numpy.percentile.html"
   ]
  },
  {
   "cell_type": "code",
   "execution_count": 21,
   "metadata": {},
   "outputs": [
    {
     "data": {
      "text/plain": [
       "0.97582074840405175"
      ]
     },
     "execution_count": 21,
     "metadata": {},
     "output_type": "execute_result"
    }
   ],
   "source": [
    "#remove any outliers (any y-values greater than Q3 + 1.5 * IQR)\n",
    "#the third quartile is the same as the 75th percentile\n",
    "#the first quartile is the same as the 50th percentile\n",
    "\n",
    "q3 = np.percentile(y_values, 75)\n",
    "q1 = np.percentile(y_values, 25)\n",
    "iqr = q3 - q1\n",
    "\n",
    "#create a variable for the point at which outliers will be removed\n",
    "outlier_cutoff = q3 + (1.5 * iqr)\n",
    "\n",
    "\n",
    "outlier_cutoff"
   ]
  },
  {
   "cell_type": "code",
   "execution_count": 22,
   "metadata": {},
   "outputs": [
    {
     "name": "stdout",
     "output_type": "stream",
     "text": [
      "True\n",
      "True\n"
     ]
    }
   ],
   "source": [
    "#create new lists for x and y values with all outliers removed\n",
    "new_y = []\n",
    "new_x = []\n",
    "\n",
    "#for each y-value, check whether the value exceeds the outlier cutoff\n",
    "#if it does not, append the value to the new list of y-values\n",
    "#append the corresponding x-value to the new list of x-values \n",
    "for index, value in enumerate(y_values):\n",
    "    if value <= outlier_cutoff:\n",
    "        new_y.append(value)\n",
    "        new_x.append(x_values[index])\n",
    "\n",
    "#verify that the new list of y-values does not contain any outliers         \n",
    "print(max(new_y) < outlier_cutoff)\n",
    "\n",
    "#verify that there are an equal amount of x and y values\n",
    "print(len(new_y) == len(new_x))"
   ]
  },
  {
   "cell_type": "code",
   "execution_count": 74,
   "metadata": {},
   "outputs": [
    {
     "data": {
      "image/png": "[encoded data removed]",
      "text/plain": [
       "<matplotlib.figure.Figure at 0x7f258f7af400>"
      ]
     },
     "metadata": {},
     "output_type": "display_data"
    }
   ],
   "source": [
    "#plot a scatterplot to visualize the relationship between\n",
    "#days after scheduling and proportion of no-shows\n",
    "plt.title(\"Proportion of No-shows vs. Days After Scheduling\")\n",
    "plt.xlabel(\"Days After Scheduling\")\n",
    "plt.ylabel(\"Proportion of No-shows\")\n",
    "plt.scatter(new_x, new_y)\n",
    "plt.show()"
   ]
  },
  {
   "cell_type": "markdown",
   "metadata": {},
   "source": [
    "#### The scatter plot seems to suggest a negative correlation between Proportion of No-shows and Days After Scheduling. In the next cell, we will compute the correlation coefficient:\n",
    "\n",
    "https://docs.scipy.org/doc/numpy-1.13.0/reference/generated/numpy.corrcoef.html"
   ]
  },
  {
   "cell_type": "code",
   "execution_count": 77,
   "metadata": {},
   "outputs": [
    {
     "data": {
      "text/plain": [
       "-0.42574402230557357"
      ]
     },
     "execution_count": 77,
     "metadata": {},
     "output_type": "execute_result"
    }
   ],
   "source": [
    "#calculate the corellation coefficient\n",
    "np.corrcoef(new_x, new_y)[1,0]"
   ]
  },
  {
   "cell_type": "markdown",
   "metadata": {},
   "source": [
    "#### The correlation coefficient is approximately equal to -0.43. This means that there is a weak-to-moderate negative relationship between No-shows and Days After Scheduling. "
   ]
  },
  {
   "cell_type": "markdown",
   "metadata": {},
   "source": [
    "### Research Question 2  (Replace this header name!)\n",
    "\n",
    "#### Is no-show status more or less common among patients who are enrolled in the Bolsa Familia scholarship program?"
   ]
  },
  {
   "cell_type": "code",
   "execution_count": 62,
   "metadata": {},
   "outputs": [],
   "source": [
    "#determine the total amount of no-shows and assign it to a variable\n",
    "is_no_show = df[\"No-show\"] == 'Yes'\n",
    "ns_total = is_no_show.sum()\n",
    "\n",
    "\n",
    "#determine the amount of no-shows who are enrolled in the program\n",
    "is_enrolled = df[\"Scholarship\"] == 1\n",
    "enrolled_and_no_show = (is_no_show & is_enrolled) == True\n",
    "ns_enrolled = len(df.loc[enrolled_and_no_show, \"Scholarship\"])\n",
    "\n",
    "#determine the amount of no-shows who are not enrolled in the program\n",
    "#subtract the number of enrolled no-shows from total no-shows\n",
    "ns_not_enrolled = ns_total - ns_enrolled"
   ]
  },
  {
   "cell_type": "code",
   "execution_count": 70,
   "metadata": {},
   "outputs": [
    {
     "data": {
      "image/png": "[encoded data removed]",
      "text/plain": [
       "<matplotlib.figure.Figure at 0x7f258fb91518>"
      ]
     },
     "metadata": {},
     "output_type": "display_data"
    }
   ],
   "source": [
    "#create a pie chart that displays the proportion of no-shows\n",
    "#from Bolsa Familia members and non-members\n",
    "values = [ns_enrolled, ns_not_enrolled]\n",
    "ns_labels = ['Enrolled', 'Not Enrolled']\n",
    "\n",
    "#plot the pie chart\n",
    "plt.title(\"No-show Status by Enrollment\")\n",
    "plt.axis('equal')\n",
    "plt.pie(values, labels=ns_labels, autopct='%0.0f%%')\n",
    "plt.show()"
   ]
  },
  {
   "cell_type": "markdown",
   "metadata": {},
   "source": [
    "#### Among all of the patients in this population who failed to show up to their appointments, only 12% were enrolled in the Bolsa Familia scholarship program."
   ]
  },
  {
   "cell_type": "code",
   "execution_count": null,
   "metadata": {
    "collapsed": true
   },
   "outputs": [],
   "source": [
    "# Continue to explore the data to address your additional research\n",
    "#   questions. Add more headers as needed if you have more questions to\n",
    "#   investigate.\n"
   ]
  },
  {
   "cell_type": "markdown",
   "metadata": {},
   "source": [
    "<a id='conclusions'></a>\n",
    "## Conclusions\n",
    "\n",
    "> **Tip**: Finally, summarize your findings and the results that have been performed. Make sure that you are clear with regards to the limitations of your exploration. If you haven't done any statistical tests, do not imply any statistical conclusions. And make sure you avoid implying causation from correlation!\n",
    "\n",
    "> **Tip**: Once you are satisfied with your work, you should save a copy of the report in HTML or PDF form. Before exporting your report, check over it to make sure that the flow of the report is complete. You should probably remove all of the \"Tip\" quotes like this one so that the presentation is as tidy as possible. It's also a good idea to look over the project rubric, found on the project submission page at the end of the lesson.\n",
    "\n",
    "> To export the report to the workspace, you should run the code cell below. If it worked correctly, you should get a return code of 0, and you should see the generated .html file in the workspace directory (click on the jupyter icon in the upper left). Alternatively, you can download the html report via the **File** > **Download as** submenu and then manually upload it to the workspace directory. Once you've done this, you can submit your project by clicking on the \"Submit Project\" button in the lower right. Congratulations!"
   ]
  },
  {
   "cell_type": "code",
   "execution_count": null,
   "metadata": {
    "collapsed": true
   },
   "outputs": [],
   "source": [
    "from subprocess import call\n",
    "call(['python', '-m', 'nbconvert', 'Investigate_a_Dataset.ipynb'])"
   ]
  }
 ],
 "metadata": {
  "kernelspec": {
   "display_name": "Python 3",
   "language": "python",
   "name": "python3"
  },
  "language_info": {
   "codemirror_mode": {
    "name": "ipython",
    "version": 3
   },
   "file_extension": ".py",
   "mimetype": "text/x-python",
   "name": "python",
   "nbconvert_exporter": "python",
   "pygments_lexer": "ipython3",
   "version": "3.6.3"
  }
 },
 "nbformat": 4,
 "nbformat_minor": 2
}
